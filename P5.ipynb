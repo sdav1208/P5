{
 "cells": [
  {
   "cell_type": "markdown",
   "id": "230a1db1",
   "metadata": {
    "id": "230a1db1"
   },
   "source": [
    "## 1. Données et questions de l'énoncé."
   ]
  },
  {
   "cell_type": "markdown",
   "id": "547ebe7b",
   "metadata": {
    "id": "547ebe7b"
   },
   "source": [
    "1. Rapprocher l'export de l’ERP contenant les références produit, leur prix de vente et leur état de stock, et un export d’une table de l’outil de CMS contenant les informations des produits commercialisés en ligne (nom, description, nombre de ventes...).\n",
    "L’export issu de la boutique en ligne contient le nombre de ventes pour chaque produit depuis sa mise en ligne, il ne permet pas d’analyser l'évolution des ventes dans le temps.\n",
    "\n",
    "En plus de ces 2 exports, on dispose d'un tableau Excel qui permet d’établir le lien entre la référence du produit dans l’ERP (product_id) et la référence du même produit dans la base de la boutique en ligne (SKU). \n",
    "la colonne id_web dans le fichier \"liaison\" correspond au SKU des produits dans le fichier \"web\" de la boutique en ligne.\n",
    "\n",
    "2. Calculer le chiffre d’affaires par produit, ainsi que le total du chiffre d’affaires réalisé en ligne. \n",
    "\n",
    "3. Vérifier la présence d'erreurs dans les prix des produits au travers d'une analyse  sur la variable afin de détecter d’éventuelles valeurs aberrantes, de les lister et d’en faire une représentation graphique pour plus de lisibilité."
   ]
  },
  {
   "cell_type": "code",
   "execution_count": 1,
   "id": "1e207ac4",
   "metadata": {
    "id": "1e207ac4"
   },
   "outputs": [],
   "source": [
    "import pandas as pd\n",
    "import numpy as np\n",
    "import matplotlib.pyplot as plt"
   ]
  },
  {
   "cell_type": "markdown",
   "id": "6e594310",
   "metadata": {
    "id": "6e594310"
   },
   "source": [
    "## 2. Importation et traitement du fichier web.csv "
   ]
  },
  {
   "cell_type": "code",
   "execution_count": 2,
   "id": "01311e7b",
   "metadata": {
    "id": "01311e7b",
    "scrolled": true
   },
   "outputs": [],
   "source": [
    "web=pd.read_csv('C:\\\\Users\\\\serge\\\\OneDrive\\\\Documents\\\\Documents\\\\DATA ANALYST\\\\P5\\\\web.csv')"
   ]
  },
  {
   "cell_type": "code",
   "execution_count": 3,
   "id": "32f99d36",
   "metadata": {},
   "outputs": [
    {
     "name": "stdout",
     "output_type": "stream",
     "text": [
      "<class 'pandas.core.frame.DataFrame'>\n",
      "RangeIndex: 1513 entries, 0 to 1512\n",
      "Data columns (total 28 columns):\n",
      " #   Column                 Non-Null Count  Dtype  \n",
      "---  ------                 --------------  -----  \n",
      " 0   sku                    1428 non-null   object \n",
      " 1   virtual                1513 non-null   int64  \n",
      " 2   downloadable           1513 non-null   int64  \n",
      " 3   rating_count           1513 non-null   int64  \n",
      " 4   average_rating         1430 non-null   float64\n",
      " 5   total_sales            1430 non-null   float64\n",
      " 6   tax_status             716 non-null    object \n",
      " 7   tax_class              0 non-null      float64\n",
      " 8   post_author            1430 non-null   float64\n",
      " 9   post_date              1430 non-null   object \n",
      " 10  post_date_gmt          1430 non-null   object \n",
      " 11  post_content           0 non-null      float64\n",
      " 12  post_title             1430 non-null   object \n",
      " 13  post_excerpt           716 non-null    object \n",
      " 14  post_status            1430 non-null   object \n",
      " 15  comment_status         1430 non-null   object \n",
      " 16  ping_status            1430 non-null   object \n",
      " 17  post_password          0 non-null      float64\n",
      " 18  post_name              1430 non-null   object \n",
      " 19  post_modified          1430 non-null   object \n",
      " 20  post_modified_gmt      1430 non-null   object \n",
      " 21  post_content_filtered  0 non-null      float64\n",
      " 22  post_parent            1430 non-null   float64\n",
      " 23  guid                   1430 non-null   object \n",
      " 24  menu_order             1430 non-null   float64\n",
      " 25  post_type              1430 non-null   object \n",
      " 26  post_mime_type         714 non-null    object \n",
      " 27  comment_count          1430 non-null   float64\n",
      "dtypes: float64(10), int64(3), object(15)\n",
      "memory usage: 331.1+ KB\n"
     ]
    }
   ],
   "source": [
    "web.info()"
   ]
  },
  {
   "cell_type": "code",
   "execution_count": 4,
   "id": "8814bcdb",
   "metadata": {
    "id": "8814bcdb",
    "outputId": "58d960a7-385e-467f-a441-92254aa1eb8e",
    "scrolled": true
   },
   "outputs": [
    {
     "data": {
      "text/plain": [
       "sku                       714\n",
       "virtual                     1\n",
       "downloadable                1\n",
       "rating_count                1\n",
       "average_rating              1\n",
       "total_sales                41\n",
       "tax_status                  1\n",
       "tax_class                   0\n",
       "post_author                 2\n",
       "post_date                 716\n",
       "post_date_gmt             716\n",
       "post_content                0\n",
       "post_title                713\n",
       "post_excerpt              679\n",
       "post_status                 1\n",
       "comment_status              1\n",
       "ping_status                 1\n",
       "post_password               0\n",
       "post_name                 716\n",
       "post_modified             589\n",
       "post_modified_gmt         589\n",
       "post_content_filtered       0\n",
       "post_parent                 1\n",
       "guid                     1430\n",
       "menu_order                  1\n",
       "post_type                   2\n",
       "post_mime_type              1\n",
       "comment_count               1\n",
       "dtype: int64"
      ]
     },
     "execution_count": 4,
     "metadata": {},
     "output_type": "execute_result"
    }
   ],
   "source": [
    "web.nunique()   # affiche le nombre de valeurs uniques par colonnes --> 4 colonnes avec 0 non-null\n",
    "                                                                    # 12 colonnes avec 1 seule valeur    "
   ]
  },
  {
   "cell_type": "code",
   "execution_count": 5,
   "id": "437105c2",
   "metadata": {},
   "outputs": [],
   "source": [
    "web=web.dropna(axis='columns',how='all')   #supprime les 4 colonnes avec 0 non-null"
   ]
  },
  {
   "cell_type": "code",
   "execution_count": 6,
   "id": "71da180c",
   "metadata": {},
   "outputs": [
    {
     "data": {
      "text/html": [
       "<div>\n",
       "<style scoped>\n",
       "    .dataframe tbody tr th:only-of-type {\n",
       "        vertical-align: middle;\n",
       "    }\n",
       "\n",
       "    .dataframe tbody tr th {\n",
       "        vertical-align: top;\n",
       "    }\n",
       "\n",
       "    .dataframe thead th {\n",
       "        text-align: right;\n",
       "    }\n",
       "</style>\n",
       "<table border=\"1\" class=\"dataframe\">\n",
       "  <thead>\n",
       "    <tr style=\"text-align: right;\">\n",
       "      <th></th>\n",
       "      <th>sku</th>\n",
       "      <th>virtual</th>\n",
       "      <th>downloadable</th>\n",
       "      <th>rating_count</th>\n",
       "      <th>average_rating</th>\n",
       "      <th>total_sales</th>\n",
       "      <th>tax_status</th>\n",
       "      <th>post_author</th>\n",
       "      <th>post_date</th>\n",
       "      <th>post_date_gmt</th>\n",
       "      <th>...</th>\n",
       "      <th>ping_status</th>\n",
       "      <th>post_name</th>\n",
       "      <th>post_modified</th>\n",
       "      <th>post_modified_gmt</th>\n",
       "      <th>post_parent</th>\n",
       "      <th>guid</th>\n",
       "      <th>menu_order</th>\n",
       "      <th>post_type</th>\n",
       "      <th>post_mime_type</th>\n",
       "      <th>comment_count</th>\n",
       "    </tr>\n",
       "  </thead>\n",
       "  <tbody>\n",
       "    <tr>\n",
       "      <th>0</th>\n",
       "      <td>bon-cadeau-25-euros</td>\n",
       "      <td>0</td>\n",
       "      <td>0</td>\n",
       "      <td>0</td>\n",
       "      <td>0.0</td>\n",
       "      <td>10.0</td>\n",
       "      <td>taxable</td>\n",
       "      <td>1.0</td>\n",
       "      <td>2018-06-01 13:53:46</td>\n",
       "      <td>2018-06-01 11:53:46</td>\n",
       "      <td>...</td>\n",
       "      <td>closed</td>\n",
       "      <td>bon-cadeau-de-25-euros</td>\n",
       "      <td>2018-06-01 14:13:57</td>\n",
       "      <td>2018-06-01 12:13:57</td>\n",
       "      <td>0.0</td>\n",
       "      <td>https://www.bottle-neck.fr/?post_type=product&amp;...</td>\n",
       "      <td>0.0</td>\n",
       "      <td>product</td>\n",
       "      <td>NaN</td>\n",
       "      <td>0.0</td>\n",
       "    </tr>\n",
       "    <tr>\n",
       "      <th>1</th>\n",
       "      <td>15298</td>\n",
       "      <td>0</td>\n",
       "      <td>0</td>\n",
       "      <td>0</td>\n",
       "      <td>0.0</td>\n",
       "      <td>6.0</td>\n",
       "      <td>taxable</td>\n",
       "      <td>2.0</td>\n",
       "      <td>2018-02-08 12:58:52</td>\n",
       "      <td>2018-02-08 11:58:52</td>\n",
       "      <td>...</td>\n",
       "      <td>closed</td>\n",
       "      <td>pierre-jean-villa-saint-joseph-preface-2018</td>\n",
       "      <td>2019-12-30 09:30:29</td>\n",
       "      <td>2019-12-30 08:30:29</td>\n",
       "      <td>0.0</td>\n",
       "      <td>https://www.bottle-neck.fr/?post_type=product&amp;...</td>\n",
       "      <td>0.0</td>\n",
       "      <td>product</td>\n",
       "      <td>NaN</td>\n",
       "      <td>0.0</td>\n",
       "    </tr>\n",
       "    <tr>\n",
       "      <th>2</th>\n",
       "      <td>15296</td>\n",
       "      <td>0</td>\n",
       "      <td>0</td>\n",
       "      <td>0</td>\n",
       "      <td>0.0</td>\n",
       "      <td>0.0</td>\n",
       "      <td>taxable</td>\n",
       "      <td>2.0</td>\n",
       "      <td>2018-02-08 13:49:41</td>\n",
       "      <td>2018-02-08 12:49:41</td>\n",
       "      <td>...</td>\n",
       "      <td>closed</td>\n",
       "      <td>pierre-jean-villa-saint-joseph-tilde-2017</td>\n",
       "      <td>2019-12-21 09:00:17</td>\n",
       "      <td>2019-12-21 08:00:17</td>\n",
       "      <td>0.0</td>\n",
       "      <td>https://www.bottle-neck.fr/?post_type=product&amp;...</td>\n",
       "      <td>0.0</td>\n",
       "      <td>product</td>\n",
       "      <td>NaN</td>\n",
       "      <td>0.0</td>\n",
       "    </tr>\n",
       "    <tr>\n",
       "      <th>3</th>\n",
       "      <td>15300</td>\n",
       "      <td>0</td>\n",
       "      <td>0</td>\n",
       "      <td>0</td>\n",
       "      <td>0.0</td>\n",
       "      <td>0.0</td>\n",
       "      <td>taxable</td>\n",
       "      <td>2.0</td>\n",
       "      <td>2018-02-08 14:08:36</td>\n",
       "      <td>2018-02-08 13:08:36</td>\n",
       "      <td>...</td>\n",
       "      <td>closed</td>\n",
       "      <td>pierre-jean-villa-croze-hermitage-accroche-coe...</td>\n",
       "      <td>2020-06-26 18:15:03</td>\n",
       "      <td>2020-06-26 16:15:03</td>\n",
       "      <td>0.0</td>\n",
       "      <td>https://www.bottle-neck.fr/?post_type=product&amp;...</td>\n",
       "      <td>0.0</td>\n",
       "      <td>product</td>\n",
       "      <td>NaN</td>\n",
       "      <td>0.0</td>\n",
       "    </tr>\n",
       "    <tr>\n",
       "      <th>4</th>\n",
       "      <td>19814</td>\n",
       "      <td>0</td>\n",
       "      <td>0</td>\n",
       "      <td>0</td>\n",
       "      <td>0.0</td>\n",
       "      <td>3.0</td>\n",
       "      <td>taxable</td>\n",
       "      <td>2.0</td>\n",
       "      <td>2018-02-09 14:01:05</td>\n",
       "      <td>2018-02-09 13:01:05</td>\n",
       "      <td>...</td>\n",
       "      <td>closed</td>\n",
       "      <td>pierre-jean-villa-igp-gamine-2018</td>\n",
       "      <td>2020-01-04 16:36:01</td>\n",
       "      <td>2020-01-04 15:36:01</td>\n",
       "      <td>0.0</td>\n",
       "      <td>https://www.bottle-neck.fr/?post_type=product&amp;...</td>\n",
       "      <td>0.0</td>\n",
       "      <td>product</td>\n",
       "      <td>NaN</td>\n",
       "      <td>0.0</td>\n",
       "    </tr>\n",
       "  </tbody>\n",
       "</table>\n",
       "<p>5 rows × 24 columns</p>\n",
       "</div>"
      ],
      "text/plain": [
       "                   sku  virtual  downloadable  rating_count  average_rating  \\\n",
       "0  bon-cadeau-25-euros        0             0             0             0.0   \n",
       "1                15298        0             0             0             0.0   \n",
       "2                15296        0             0             0             0.0   \n",
       "3                15300        0             0             0             0.0   \n",
       "4                19814        0             0             0             0.0   \n",
       "\n",
       "   total_sales tax_status  post_author            post_date  \\\n",
       "0         10.0    taxable          1.0  2018-06-01 13:53:46   \n",
       "1          6.0    taxable          2.0  2018-02-08 12:58:52   \n",
       "2          0.0    taxable          2.0  2018-02-08 13:49:41   \n",
       "3          0.0    taxable          2.0  2018-02-08 14:08:36   \n",
       "4          3.0    taxable          2.0  2018-02-09 14:01:05   \n",
       "\n",
       "         post_date_gmt  ... ping_status  \\\n",
       "0  2018-06-01 11:53:46  ...      closed   \n",
       "1  2018-02-08 11:58:52  ...      closed   \n",
       "2  2018-02-08 12:49:41  ...      closed   \n",
       "3  2018-02-08 13:08:36  ...      closed   \n",
       "4  2018-02-09 13:01:05  ...      closed   \n",
       "\n",
       "                                           post_name        post_modified  \\\n",
       "0                             bon-cadeau-de-25-euros  2018-06-01 14:13:57   \n",
       "1        pierre-jean-villa-saint-joseph-preface-2018  2019-12-30 09:30:29   \n",
       "2          pierre-jean-villa-saint-joseph-tilde-2017  2019-12-21 09:00:17   \n",
       "3  pierre-jean-villa-croze-hermitage-accroche-coe...  2020-06-26 18:15:03   \n",
       "4                  pierre-jean-villa-igp-gamine-2018  2020-01-04 16:36:01   \n",
       "\n",
       "     post_modified_gmt post_parent  \\\n",
       "0  2018-06-01 12:13:57         0.0   \n",
       "1  2019-12-30 08:30:29         0.0   \n",
       "2  2019-12-21 08:00:17         0.0   \n",
       "3  2020-06-26 16:15:03         0.0   \n",
       "4  2020-01-04 15:36:01         0.0   \n",
       "\n",
       "                                                guid menu_order post_type  \\\n",
       "0  https://www.bottle-neck.fr/?post_type=product&...        0.0   product   \n",
       "1  https://www.bottle-neck.fr/?post_type=product&...        0.0   product   \n",
       "2  https://www.bottle-neck.fr/?post_type=product&...        0.0   product   \n",
       "3  https://www.bottle-neck.fr/?post_type=product&...        0.0   product   \n",
       "4  https://www.bottle-neck.fr/?post_type=product&...        0.0   product   \n",
       "\n",
       "   post_mime_type comment_count  \n",
       "0             NaN           0.0  \n",
       "1             NaN           0.0  \n",
       "2             NaN           0.0  \n",
       "3             NaN           0.0  \n",
       "4             NaN           0.0  \n",
       "\n",
       "[5 rows x 24 columns]"
      ]
     },
     "execution_count": 6,
     "metadata": {},
     "output_type": "execute_result"
    }
   ],
   "source": [
    "web.head()"
   ]
  },
  {
   "cell_type": "code",
   "execution_count": 7,
   "id": "593622e3",
   "metadata": {},
   "outputs": [
    {
     "data": {
      "text/html": [
       "<div>\n",
       "<style scoped>\n",
       "    .dataframe tbody tr th:only-of-type {\n",
       "        vertical-align: middle;\n",
       "    }\n",
       "\n",
       "    .dataframe tbody tr th {\n",
       "        vertical-align: top;\n",
       "    }\n",
       "\n",
       "    .dataframe thead th {\n",
       "        text-align: right;\n",
       "    }\n",
       "</style>\n",
       "<table border=\"1\" class=\"dataframe\">\n",
       "  <thead>\n",
       "    <tr style=\"text-align: right;\">\n",
       "      <th></th>\n",
       "      <th>virtual</th>\n",
       "      <th>downloadable</th>\n",
       "      <th>rating_count</th>\n",
       "      <th>average_rating</th>\n",
       "      <th>total_sales</th>\n",
       "      <th>post_author</th>\n",
       "      <th>post_parent</th>\n",
       "      <th>menu_order</th>\n",
       "      <th>comment_count</th>\n",
       "    </tr>\n",
       "  </thead>\n",
       "  <tbody>\n",
       "    <tr>\n",
       "      <th>count</th>\n",
       "      <td>1513.0</td>\n",
       "      <td>1513.0</td>\n",
       "      <td>1513.0</td>\n",
       "      <td>1430.0</td>\n",
       "      <td>1430.000000</td>\n",
       "      <td>1430.000000</td>\n",
       "      <td>1430.0</td>\n",
       "      <td>1430.0</td>\n",
       "      <td>1430.0</td>\n",
       "    </tr>\n",
       "    <tr>\n",
       "      <th>mean</th>\n",
       "      <td>0.0</td>\n",
       "      <td>0.0</td>\n",
       "      <td>0.0</td>\n",
       "      <td>0.0</td>\n",
       "      <td>4.006993</td>\n",
       "      <td>1.998601</td>\n",
       "      <td>0.0</td>\n",
       "      <td>0.0</td>\n",
       "      <td>0.0</td>\n",
       "    </tr>\n",
       "    <tr>\n",
       "      <th>std</th>\n",
       "      <td>0.0</td>\n",
       "      <td>0.0</td>\n",
       "      <td>0.0</td>\n",
       "      <td>0.0</td>\n",
       "      <td>8.510559</td>\n",
       "      <td>0.037385</td>\n",
       "      <td>0.0</td>\n",
       "      <td>0.0</td>\n",
       "      <td>0.0</td>\n",
       "    </tr>\n",
       "    <tr>\n",
       "      <th>min</th>\n",
       "      <td>0.0</td>\n",
       "      <td>0.0</td>\n",
       "      <td>0.0</td>\n",
       "      <td>0.0</td>\n",
       "      <td>0.000000</td>\n",
       "      <td>1.000000</td>\n",
       "      <td>0.0</td>\n",
       "      <td>0.0</td>\n",
       "      <td>0.0</td>\n",
       "    </tr>\n",
       "    <tr>\n",
       "      <th>25%</th>\n",
       "      <td>0.0</td>\n",
       "      <td>0.0</td>\n",
       "      <td>0.0</td>\n",
       "      <td>0.0</td>\n",
       "      <td>0.000000</td>\n",
       "      <td>2.000000</td>\n",
       "      <td>0.0</td>\n",
       "      <td>0.0</td>\n",
       "      <td>0.0</td>\n",
       "    </tr>\n",
       "    <tr>\n",
       "      <th>50%</th>\n",
       "      <td>0.0</td>\n",
       "      <td>0.0</td>\n",
       "      <td>0.0</td>\n",
       "      <td>0.0</td>\n",
       "      <td>1.000000</td>\n",
       "      <td>2.000000</td>\n",
       "      <td>0.0</td>\n",
       "      <td>0.0</td>\n",
       "      <td>0.0</td>\n",
       "    </tr>\n",
       "    <tr>\n",
       "      <th>75%</th>\n",
       "      <td>0.0</td>\n",
       "      <td>0.0</td>\n",
       "      <td>0.0</td>\n",
       "      <td>0.0</td>\n",
       "      <td>4.000000</td>\n",
       "      <td>2.000000</td>\n",
       "      <td>0.0</td>\n",
       "      <td>0.0</td>\n",
       "      <td>0.0</td>\n",
       "    </tr>\n",
       "    <tr>\n",
       "      <th>max</th>\n",
       "      <td>0.0</td>\n",
       "      <td>0.0</td>\n",
       "      <td>0.0</td>\n",
       "      <td>0.0</td>\n",
       "      <td>96.000000</td>\n",
       "      <td>2.000000</td>\n",
       "      <td>0.0</td>\n",
       "      <td>0.0</td>\n",
       "      <td>0.0</td>\n",
       "    </tr>\n",
       "  </tbody>\n",
       "</table>\n",
       "</div>"
      ],
      "text/plain": [
       "       virtual  downloadable  rating_count  average_rating  total_sales  \\\n",
       "count   1513.0        1513.0        1513.0          1430.0  1430.000000   \n",
       "mean       0.0           0.0           0.0             0.0     4.006993   \n",
       "std        0.0           0.0           0.0             0.0     8.510559   \n",
       "min        0.0           0.0           0.0             0.0     0.000000   \n",
       "25%        0.0           0.0           0.0             0.0     0.000000   \n",
       "50%        0.0           0.0           0.0             0.0     1.000000   \n",
       "75%        0.0           0.0           0.0             0.0     4.000000   \n",
       "max        0.0           0.0           0.0             0.0    96.000000   \n",
       "\n",
       "       post_author  post_parent  menu_order  comment_count  \n",
       "count  1430.000000       1430.0      1430.0         1430.0  \n",
       "mean      1.998601          0.0         0.0            0.0  \n",
       "std       0.037385          0.0         0.0            0.0  \n",
       "min       1.000000          0.0         0.0            0.0  \n",
       "25%       2.000000          0.0         0.0            0.0  \n",
       "50%       2.000000          0.0         0.0            0.0  \n",
       "75%       2.000000          0.0         0.0            0.0  \n",
       "max       2.000000          0.0         0.0            0.0  "
      ]
     },
     "execution_count": 7,
     "metadata": {},
     "output_type": "execute_result"
    }
   ],
   "source": [
    "web.describe() # 7 colonnes qui ne comportent que des 0 et des nan  peuvent être supprimées\n"
   ]
  },
  {
   "cell_type": "code",
   "execution_count": 8,
   "id": "7d532043",
   "metadata": {
    "id": "7d532043",
    "outputId": "9390b91b-5594-414f-f19d-6c5601ba3e4e",
    "scrolled": true
   },
   "outputs": [],
   "source": [
    "web=web.drop(columns=['virtual','downloadable','rating_count','average_rating','post_parent','menu_order','comment_count'])  # suppression des 4 colonnes qui ne comportent que des 0\n"
   ]
  },
  {
   "cell_type": "code",
   "execution_count": 9,
   "id": "be80cb39",
   "metadata": {},
   "outputs": [
    {
     "name": "stdout",
     "output_type": "stream",
     "text": [
      "<class 'pandas.core.frame.DataFrame'>\n",
      "RangeIndex: 1513 entries, 0 to 1512\n",
      "Data columns (total 17 columns):\n",
      " #   Column             Non-Null Count  Dtype  \n",
      "---  ------             --------------  -----  \n",
      " 0   sku                1428 non-null   object \n",
      " 1   total_sales        1430 non-null   float64\n",
      " 2   tax_status         716 non-null    object \n",
      " 3   post_author        1430 non-null   float64\n",
      " 4   post_date          1430 non-null   object \n",
      " 5   post_date_gmt      1430 non-null   object \n",
      " 6   post_title         1430 non-null   object \n",
      " 7   post_excerpt       716 non-null    object \n",
      " 8   post_status        1430 non-null   object \n",
      " 9   comment_status     1430 non-null   object \n",
      " 10  ping_status        1430 non-null   object \n",
      " 11  post_name          1430 non-null   object \n",
      " 12  post_modified      1430 non-null   object \n",
      " 13  post_modified_gmt  1430 non-null   object \n",
      " 14  guid               1430 non-null   object \n",
      " 15  post_type          1430 non-null   object \n",
      " 16  post_mime_type     714 non-null    object \n",
      "dtypes: float64(2), object(15)\n",
      "memory usage: 201.1+ KB\n"
     ]
    }
   ],
   "source": [
    "web.info()"
   ]
  },
  {
   "cell_type": "code",
   "execution_count": 10,
   "id": "a29b5c44",
   "metadata": {},
   "outputs": [
    {
     "data": {
      "text/plain": [
       "post_name\n",
       "8planeta-sicilia-etna-rosso-2018                               [product, attachment]\n",
       "agnes-levet-amethyste-2017                                     [product, attachment]\n",
       "agnes-levet-cote-rotie-maestria-2017                           [product, attachment]\n",
       "agnes-levet-cote-rotie-peroline-2017                           [product, attachment]\n",
       "alain-graillot-crozes-hermitage-blanc-2018                     [product, attachment]\n",
       "                                                                       ...          \n",
       "zind-humbrecht-pinot-gris-windsbuhl-2013                       [product, attachment]\n",
       "zind-humbrecht-riesling-clos-windsbuhl-2014                    [product, attachment]\n",
       "zind-humbrecht-riesling-gc-rangen-thann-clos-st-urbain-2017    [product, attachment]\n",
       "zind-humbrecht-riesling-herrenweg-turckheim-2017               [product, attachment]\n",
       "zind-humbrecht-vdf-zind-2017                                   [product, attachment]\n",
       "Name: post_type, Length: 716, dtype: object"
      ]
     },
     "execution_count": 10,
     "metadata": {},
     "output_type": "execute_result"
    }
   ],
   "source": [
    "web.groupby('post_name')['post_type'].unique()   # il y a 2 lignes par produit() post_name) .\n",
    "                                                 # 1ere ligne avec post_type = product \n",
    "                                                 # 2eme ligne avec post_type = attachement (photo) \n",
    "                                                                    "
   ]
  },
  {
   "cell_type": "code",
   "execution_count": 11,
   "id": "527c3e16",
   "metadata": {},
   "outputs": [],
   "source": [
    "web=web.drop_duplicates(subset=['post_name'], keep='first')  # supprime les doublons et ne conserve que la 1ere ligne\n",
    "web=web.dropna(axis=0, how='all')  # supprime les lignes ne contenant que des NAN"
   ]
  },
  {
   "cell_type": "code",
   "execution_count": 12,
   "id": "c30790ae",
   "metadata": {},
   "outputs": [
    {
     "data": {
      "text/plain": [
       "(716, 17)"
      ]
     },
     "execution_count": 12,
     "metadata": {},
     "output_type": "execute_result"
    }
   ],
   "source": [
    "web.shape"
   ]
  },
  {
   "cell_type": "code",
   "execution_count": 13,
   "id": "cefb1fbb",
   "metadata": {},
   "outputs": [
    {
     "name": "stdout",
     "output_type": "stream",
     "text": [
      "<class 'pandas.core.frame.DataFrame'>\n",
      "Int64Index: 716 entries, 0 to 798\n",
      "Data columns (total 17 columns):\n",
      " #   Column             Non-Null Count  Dtype  \n",
      "---  ------             --------------  -----  \n",
      " 0   sku                714 non-null    object \n",
      " 1   total_sales        716 non-null    float64\n",
      " 2   tax_status         716 non-null    object \n",
      " 3   post_author        716 non-null    float64\n",
      " 4   post_date          716 non-null    object \n",
      " 5   post_date_gmt      716 non-null    object \n",
      " 6   post_title         716 non-null    object \n",
      " 7   post_excerpt       716 non-null    object \n",
      " 8   post_status        716 non-null    object \n",
      " 9   comment_status     716 non-null    object \n",
      " 10  ping_status        716 non-null    object \n",
      " 11  post_name          716 non-null    object \n",
      " 12  post_modified      716 non-null    object \n",
      " 13  post_modified_gmt  716 non-null    object \n",
      " 14  guid               716 non-null    object \n",
      " 15  post_type          716 non-null    object \n",
      " 16  post_mime_type     0 non-null      object \n",
      "dtypes: float64(2), object(15)\n",
      "memory usage: 100.7+ KB\n"
     ]
    }
   ],
   "source": [
    "web.info()"
   ]
  },
  {
   "cell_type": "code",
   "execution_count": 14,
   "id": "3af20ccc",
   "metadata": {},
   "outputs": [
    {
     "name": "stdout",
     "output_type": "stream",
     "text": [
      "<class 'pandas.core.frame.DataFrame'>\n",
      "Int64Index: 716 entries, 0 to 798\n",
      "Data columns (total 16 columns):\n",
      " #   Column             Non-Null Count  Dtype  \n",
      "---  ------             --------------  -----  \n",
      " 0   sku                714 non-null    object \n",
      " 1   total_sales        716 non-null    float64\n",
      " 2   tax_status         716 non-null    object \n",
      " 3   post_author        716 non-null    float64\n",
      " 4   post_date          716 non-null    object \n",
      " 5   post_date_gmt      716 non-null    object \n",
      " 6   post_title         716 non-null    object \n",
      " 7   post_excerpt       716 non-null    object \n",
      " 8   post_status        716 non-null    object \n",
      " 9   comment_status     716 non-null    object \n",
      " 10  ping_status        716 non-null    object \n",
      " 11  post_name          716 non-null    object \n",
      " 12  post_modified      716 non-null    object \n",
      " 13  post_modified_gmt  716 non-null    object \n",
      " 14  guid               716 non-null    object \n",
      " 15  post_type          716 non-null    object \n",
      "dtypes: float64(2), object(14)\n",
      "memory usage: 95.1+ KB\n"
     ]
    }
   ],
   "source": [
    "web=web.drop(columns=['post_mime_type'])  # supprimer parce que ne contient que des nan\n",
    "web.info()"
   ]
  },
  {
   "cell_type": "code",
   "execution_count": 15,
   "id": "c82ac40c",
   "metadata": {},
   "outputs": [
    {
     "data": {
      "text/html": [
       "<div>\n",
       "<style scoped>\n",
       "    .dataframe tbody tr th:only-of-type {\n",
       "        vertical-align: middle;\n",
       "    }\n",
       "\n",
       "    .dataframe tbody tr th {\n",
       "        vertical-align: top;\n",
       "    }\n",
       "\n",
       "    .dataframe thead th {\n",
       "        text-align: right;\n",
       "    }\n",
       "</style>\n",
       "<table border=\"1\" class=\"dataframe\">\n",
       "  <thead>\n",
       "    <tr style=\"text-align: right;\">\n",
       "      <th></th>\n",
       "      <th>sku</th>\n",
       "      <th>total_sales</th>\n",
       "      <th>tax_status</th>\n",
       "      <th>post_author</th>\n",
       "      <th>post_date</th>\n",
       "      <th>post_date_gmt</th>\n",
       "      <th>post_title</th>\n",
       "      <th>post_excerpt</th>\n",
       "      <th>post_status</th>\n",
       "      <th>comment_status</th>\n",
       "      <th>ping_status</th>\n",
       "      <th>post_name</th>\n",
       "      <th>post_modified</th>\n",
       "      <th>post_modified_gmt</th>\n",
       "      <th>guid</th>\n",
       "      <th>post_type</th>\n",
       "    </tr>\n",
       "  </thead>\n",
       "  <tbody>\n",
       "    <tr>\n",
       "      <th>470</th>\n",
       "      <td>NaN</td>\n",
       "      <td>0.0</td>\n",
       "      <td>taxable</td>\n",
       "      <td>2.0</td>\n",
       "      <td>2018-07-31 12:07:23</td>\n",
       "      <td>2018-07-31 10:07:23</td>\n",
       "      <td>Pierre Jean Villa C�te R�tie Fongeant 2017</td>\n",
       "      <td>Fongeant 2017 explose sur un fruit brillant, p...</td>\n",
       "      <td>publish</td>\n",
       "      <td>closed</td>\n",
       "      <td>closed</td>\n",
       "      <td>pierre-jean-villa-cote-rotie-fongeant-2017</td>\n",
       "      <td>2019-11-02 13:24:15</td>\n",
       "      <td>2019-11-02 12:24:15</td>\n",
       "      <td>https://www.bottle-neck.fr/?post_type=product&amp;...</td>\n",
       "      <td>product</td>\n",
       "    </tr>\n",
       "    <tr>\n",
       "      <th>471</th>\n",
       "      <td>NaN</td>\n",
       "      <td>0.0</td>\n",
       "      <td>taxable</td>\n",
       "      <td>2.0</td>\n",
       "      <td>2018-08-08 11:23:43</td>\n",
       "      <td>2018-08-08 09:23:43</td>\n",
       "      <td>Pierre Jean Villa Condrieu Jardin Suspendu 2018</td>\n",
       "      <td>&lt;span id=\"u1194-83\"&gt;Le nez s�duit par ses parf...</td>\n",
       "      <td>publish</td>\n",
       "      <td>closed</td>\n",
       "      <td>closed</td>\n",
       "      <td>pierre-jean-villa-condrieu-suspendu-2018</td>\n",
       "      <td>2019-11-02 13:24:01</td>\n",
       "      <td>2019-11-02 12:24:01</td>\n",
       "      <td>https://www.bottle-neck.fr/?post_type=product&amp;...</td>\n",
       "      <td>product</td>\n",
       "    </tr>\n",
       "  </tbody>\n",
       "</table>\n",
       "</div>"
      ],
      "text/plain": [
       "     sku  total_sales tax_status  post_author            post_date  \\\n",
       "470  NaN          0.0    taxable          2.0  2018-07-31 12:07:23   \n",
       "471  NaN          0.0    taxable          2.0  2018-08-08 11:23:43   \n",
       "\n",
       "           post_date_gmt                                       post_title  \\\n",
       "470  2018-07-31 10:07:23       Pierre Jean Villa C�te R�tie Fongeant 2017   \n",
       "471  2018-08-08 09:23:43  Pierre Jean Villa Condrieu Jardin Suspendu 2018   \n",
       "\n",
       "                                          post_excerpt post_status  \\\n",
       "470  Fongeant 2017 explose sur un fruit brillant, p...     publish   \n",
       "471  <span id=\"u1194-83\">Le nez s�duit par ses parf...     publish   \n",
       "\n",
       "    comment_status ping_status                                   post_name  \\\n",
       "470         closed      closed  pierre-jean-villa-cote-rotie-fongeant-2017   \n",
       "471         closed      closed    pierre-jean-villa-condrieu-suspendu-2018   \n",
       "\n",
       "           post_modified    post_modified_gmt  \\\n",
       "470  2019-11-02 13:24:15  2019-11-02 12:24:15   \n",
       "471  2019-11-02 13:24:01  2019-11-02 12:24:01   \n",
       "\n",
       "                                                  guid post_type  \n",
       "470  https://www.bottle-neck.fr/?post_type=product&...   product  \n",
       "471  https://www.bottle-neck.fr/?post_type=product&...   product  "
      ]
     },
     "execution_count": 15,
     "metadata": {},
     "output_type": "execute_result"
    }
   ],
   "source": [
    "sku_missing=web.loc[web['sku'].isna()]  # affichage de 2 produits présents mais ne contenant pas de sku et donc pas de vente\n",
    "sku_missing                             # une information à communiquer au client pour ajout des 'sku' manquants ."
   ]
  },
  {
   "cell_type": "markdown",
   "id": "82abf6dd",
   "metadata": {
    "id": "82abf6dd"
   },
   "source": [
    "## 3. Importation et traitement du fichier erp.csv "
   ]
  },
  {
   "cell_type": "code",
   "execution_count": 16,
   "id": "389e7136",
   "metadata": {
    "id": "389e7136"
   },
   "outputs": [],
   "source": [
    "erp=pd.read_csv('C:\\\\Users\\\\serge\\\\OneDrive\\\\Documents\\\\Documents\\\\DATA ANALYST\\\\P5\\\\erp.csv')"
   ]
  },
  {
   "cell_type": "code",
   "execution_count": 17,
   "id": "b55f1b06",
   "metadata": {
    "id": "b55f1b06",
    "outputId": "2d64b113-d84c-43b5-fc81-29b9ef15ed3d",
    "scrolled": true
   },
   "outputs": [
    {
     "name": "stdout",
     "output_type": "stream",
     "text": [
      "<class 'pandas.core.frame.DataFrame'>\n",
      "RangeIndex: 825 entries, 0 to 824\n",
      "Data columns (total 5 columns):\n",
      " #   Column          Non-Null Count  Dtype \n",
      "---  ------          --------------  ----- \n",
      " 0   product_id      825 non-null    int64 \n",
      " 1   onsale_web      825 non-null    int64 \n",
      " 2   price           825 non-null    object\n",
      " 3   stock_quantity  825 non-null    int64 \n",
      " 4   stock_status    825 non-null    object\n",
      "dtypes: int64(3), object(2)\n",
      "memory usage: 32.4+ KB\n"
     ]
    }
   ],
   "source": [
    "erp.info()     "
   ]
  },
  {
   "cell_type": "code",
   "execution_count": 18,
   "id": "11e134e1",
   "metadata": {},
   "outputs": [
    {
     "data": {
      "text/plain": [
       "product_id        825\n",
       "onsale_web          2\n",
       "price             381\n",
       "stock_quantity    128\n",
       "stock_status        2\n",
       "dtype: int64"
      ]
     },
     "execution_count": 18,
     "metadata": {},
     "output_type": "execute_result"
    }
   ],
   "source": [
    "erp.nunique() "
   ]
  },
  {
   "cell_type": "code",
   "execution_count": 19,
   "id": "2c8daa1d",
   "metadata": {
    "id": "2c8daa1d"
   },
   "outputs": [],
   "source": [
    "erp['product_id']=erp['product_id'].astype(\"object\")  # changer le type en object\n",
    "erp['price']=erp['price'].str.replace(',', \".\").astype(float)  # changer le type de price en float"
   ]
  },
  {
   "cell_type": "code",
   "execution_count": 20,
   "id": "0e5ab821",
   "metadata": {
    "id": "0e5ab821",
    "outputId": "b69db6f0-ac34-47ad-9c61-9e70890e9f24"
   },
   "outputs": [
    {
     "data": {
      "text/plain": [
       "product_id         object\n",
       "onsale_web          int64\n",
       "price             float64\n",
       "stock_quantity      int64\n",
       "stock_status       object\n",
       "dtype: object"
      ]
     },
     "execution_count": 20,
     "metadata": {},
     "output_type": "execute_result"
    }
   ],
   "source": [
    "erp.dtypes "
   ]
  },
  {
   "cell_type": "code",
   "execution_count": 21,
   "id": "2a641ff9",
   "metadata": {
    "id": "2a641ff9",
    "outputId": "8784c3e6-27d4-47eb-fdbe-194b53650ab5"
   },
   "outputs": [
    {
     "data": {
      "text/html": [
       "<div>\n",
       "<style scoped>\n",
       "    .dataframe tbody tr th:only-of-type {\n",
       "        vertical-align: middle;\n",
       "    }\n",
       "\n",
       "    .dataframe tbody tr th {\n",
       "        vertical-align: top;\n",
       "    }\n",
       "\n",
       "    .dataframe thead th {\n",
       "        text-align: right;\n",
       "    }\n",
       "</style>\n",
       "<table border=\"1\" class=\"dataframe\">\n",
       "  <thead>\n",
       "    <tr style=\"text-align: right;\">\n",
       "      <th></th>\n",
       "      <th>product_id</th>\n",
       "      <th>onsale_web</th>\n",
       "      <th>price</th>\n",
       "      <th>stock_quantity</th>\n",
       "      <th>stock_status</th>\n",
       "    </tr>\n",
       "  </thead>\n",
       "  <tbody>\n",
       "    <tr>\n",
       "      <th>0</th>\n",
       "      <td>3847</td>\n",
       "      <td>1</td>\n",
       "      <td>24.2</td>\n",
       "      <td>0</td>\n",
       "      <td>outofstock</td>\n",
       "    </tr>\n",
       "    <tr>\n",
       "      <th>1</th>\n",
       "      <td>3849</td>\n",
       "      <td>1</td>\n",
       "      <td>34.3</td>\n",
       "      <td>0</td>\n",
       "      <td>outofstock</td>\n",
       "    </tr>\n",
       "    <tr>\n",
       "      <th>2</th>\n",
       "      <td>3850</td>\n",
       "      <td>1</td>\n",
       "      <td>20.8</td>\n",
       "      <td>0</td>\n",
       "      <td>outofstock</td>\n",
       "    </tr>\n",
       "    <tr>\n",
       "      <th>3</th>\n",
       "      <td>4032</td>\n",
       "      <td>1</td>\n",
       "      <td>14.1</td>\n",
       "      <td>0</td>\n",
       "      <td>outofstock</td>\n",
       "    </tr>\n",
       "    <tr>\n",
       "      <th>4</th>\n",
       "      <td>4039</td>\n",
       "      <td>1</td>\n",
       "      <td>46.0</td>\n",
       "      <td>0</td>\n",
       "      <td>outofstock</td>\n",
       "    </tr>\n",
       "  </tbody>\n",
       "</table>\n",
       "</div>"
      ],
      "text/plain": [
       "  product_id  onsale_web  price  stock_quantity stock_status\n",
       "0       3847           1   24.2               0   outofstock\n",
       "1       3849           1   34.3               0   outofstock\n",
       "2       3850           1   20.8               0   outofstock\n",
       "3       4032           1   14.1               0   outofstock\n",
       "4       4039           1   46.0               0   outofstock"
      ]
     },
     "execution_count": 21,
     "metadata": {},
     "output_type": "execute_result"
    }
   ],
   "source": [
    "erp.head()"
   ]
  },
  {
   "cell_type": "code",
   "execution_count": 22,
   "id": "320a3baf",
   "metadata": {
    "id": "320a3baf",
    "outputId": "10866d8e-60d8-42f4-a484-ef8f8f051473",
    "scrolled": true
   },
   "outputs": [
    {
     "data": {
      "text/plain": [
       "0"
      ]
     },
     "execution_count": 22,
     "metadata": {},
     "output_type": "execute_result"
    }
   ],
   "source": [
    "erp.duplicated().sum()  # compte le nombre de doublons"
   ]
  },
  {
   "cell_type": "markdown",
   "id": "7b18fa90",
   "metadata": {
    "id": "7b18fa90"
   },
   "source": [
    "## 4. Importation et traitement du fichier liaison.csv "
   ]
  },
  {
   "cell_type": "code",
   "execution_count": 23,
   "id": "31bbce95",
   "metadata": {
    "id": "31bbce95"
   },
   "outputs": [],
   "source": [
    "liaison=pd.read_csv('C:\\\\Users\\\\serge\\\\OneDrive\\\\Documents\\\\Documents\\\\DATA ANALYST\\\\P5\\\\liaison.csv')"
   ]
  },
  {
   "cell_type": "code",
   "execution_count": 24,
   "id": "65ebce79",
   "metadata": {},
   "outputs": [
    {
     "name": "stdout",
     "output_type": "stream",
     "text": [
      "<class 'pandas.core.frame.DataFrame'>\n",
      "RangeIndex: 825 entries, 0 to 824\n",
      "Data columns (total 2 columns):\n",
      " #   Column      Non-Null Count  Dtype \n",
      "---  ------      --------------  ----- \n",
      " 0   product_id  825 non-null    int64 \n",
      " 1   id_web      734 non-null    object\n",
      "dtypes: int64(1), object(1)\n",
      "memory usage: 13.0+ KB\n"
     ]
    }
   ],
   "source": [
    "liaison.info()   # on constate qu'ily a 91 valeurs manquantes dans la colonne id_web"
   ]
  },
  {
   "cell_type": "code",
   "execution_count": 25,
   "id": "11985bed",
   "metadata": {},
   "outputs": [
    {
     "data": {
      "text/html": [
       "<div>\n",
       "<style scoped>\n",
       "    .dataframe tbody tr th:only-of-type {\n",
       "        vertical-align: middle;\n",
       "    }\n",
       "\n",
       "    .dataframe tbody tr th {\n",
       "        vertical-align: top;\n",
       "    }\n",
       "\n",
       "    .dataframe thead th {\n",
       "        text-align: right;\n",
       "    }\n",
       "</style>\n",
       "<table border=\"1\" class=\"dataframe\">\n",
       "  <thead>\n",
       "    <tr style=\"text-align: right;\">\n",
       "      <th></th>\n",
       "      <th>product_id</th>\n",
       "      <th>id_web</th>\n",
       "    </tr>\n",
       "  </thead>\n",
       "  <tbody>\n",
       "    <tr>\n",
       "      <th>0</th>\n",
       "      <td>3847</td>\n",
       "      <td>15298</td>\n",
       "    </tr>\n",
       "    <tr>\n",
       "      <th>1</th>\n",
       "      <td>3849</td>\n",
       "      <td>15296</td>\n",
       "    </tr>\n",
       "    <tr>\n",
       "      <th>2</th>\n",
       "      <td>3850</td>\n",
       "      <td>15300</td>\n",
       "    </tr>\n",
       "    <tr>\n",
       "      <th>3</th>\n",
       "      <td>4032</td>\n",
       "      <td>19814</td>\n",
       "    </tr>\n",
       "    <tr>\n",
       "      <th>4</th>\n",
       "      <td>4039</td>\n",
       "      <td>19815</td>\n",
       "    </tr>\n",
       "  </tbody>\n",
       "</table>\n",
       "</div>"
      ],
      "text/plain": [
       "   product_id id_web\n",
       "0        3847  15298\n",
       "1        3849  15296\n",
       "2        3850  15300\n",
       "3        4032  19814\n",
       "4        4039  19815"
      ]
     },
     "execution_count": 25,
     "metadata": {},
     "output_type": "execute_result"
    }
   ],
   "source": [
    "liaison.head()   # la table donne une correspondance entre le product_id venant de erp et le id_web(ou sku) venant de la table web"
   ]
  },
  {
   "cell_type": "code",
   "execution_count": 26,
   "id": "15de8408",
   "metadata": {
    "id": "15de8408"
   },
   "outputs": [],
   "source": [
    "liaison['product_id']=liaison['product_id'].astype(\"object\")  # changer le type en object"
   ]
  },
  {
   "cell_type": "code",
   "execution_count": 27,
   "id": "8f6875b7",
   "metadata": {
    "id": "8f6875b7"
   },
   "outputs": [],
   "source": [
    "liaison.rename(columns={'id_web': 'sku'}, inplace=True)  # renommer id_web en sku"
   ]
  },
  {
   "cell_type": "code",
   "execution_count": 28,
   "id": "830b4168",
   "metadata": {
    "id": "830b4168",
    "outputId": "02e2800b-ca8a-4c61-9095-cb53285a9af5",
    "scrolled": true
   },
   "outputs": [
    {
     "data": {
      "text/plain": [
       "product_id    object\n",
       "sku           object\n",
       "dtype: object"
      ]
     },
     "execution_count": 28,
     "metadata": {},
     "output_type": "execute_result"
    }
   ],
   "source": [
    "liaison.dtypes "
   ]
  },
  {
   "cell_type": "markdown",
   "id": "d08e2167",
   "metadata": {
    "id": "d08e2167"
   },
   "source": [
    "## 5. Jointure des tables issues de différentes sources"
   ]
  },
  {
   "cell_type": "code",
   "execution_count": 29,
   "id": "83e4c433",
   "metadata": {
    "colab": {
     "base_uri": "https://localhost:8080/",
     "height": 184
    },
    "id": "83e4c433",
    "outputId": "7ac848d4-0319-442b-b398-5bdf5fd4b952"
   },
   "outputs": [
    {
     "data": {
      "text/html": [
       "<div>\n",
       "<style scoped>\n",
       "    .dataframe tbody tr th:only-of-type {\n",
       "        vertical-align: middle;\n",
       "    }\n",
       "\n",
       "    .dataframe tbody tr th {\n",
       "        vertical-align: top;\n",
       "    }\n",
       "\n",
       "    .dataframe thead th {\n",
       "        text-align: right;\n",
       "    }\n",
       "</style>\n",
       "<table border=\"1\" class=\"dataframe\">\n",
       "  <thead>\n",
       "    <tr style=\"text-align: right;\">\n",
       "      <th></th>\n",
       "      <th>product_id</th>\n",
       "      <th>onsale_web</th>\n",
       "      <th>price</th>\n",
       "      <th>stock_quantity</th>\n",
       "      <th>stock_status</th>\n",
       "      <th>sku</th>\n",
       "    </tr>\n",
       "  </thead>\n",
       "  <tbody>\n",
       "    <tr>\n",
       "      <th>0</th>\n",
       "      <td>3847</td>\n",
       "      <td>1</td>\n",
       "      <td>24.2</td>\n",
       "      <td>0</td>\n",
       "      <td>outofstock</td>\n",
       "      <td>15298</td>\n",
       "    </tr>\n",
       "    <tr>\n",
       "      <th>1</th>\n",
       "      <td>3849</td>\n",
       "      <td>1</td>\n",
       "      <td>34.3</td>\n",
       "      <td>0</td>\n",
       "      <td>outofstock</td>\n",
       "      <td>15296</td>\n",
       "    </tr>\n",
       "    <tr>\n",
       "      <th>2</th>\n",
       "      <td>3850</td>\n",
       "      <td>1</td>\n",
       "      <td>20.8</td>\n",
       "      <td>0</td>\n",
       "      <td>outofstock</td>\n",
       "      <td>15300</td>\n",
       "    </tr>\n",
       "    <tr>\n",
       "      <th>3</th>\n",
       "      <td>4032</td>\n",
       "      <td>1</td>\n",
       "      <td>14.1</td>\n",
       "      <td>0</td>\n",
       "      <td>outofstock</td>\n",
       "      <td>19814</td>\n",
       "    </tr>\n",
       "    <tr>\n",
       "      <th>4</th>\n",
       "      <td>4039</td>\n",
       "      <td>1</td>\n",
       "      <td>46.0</td>\n",
       "      <td>0</td>\n",
       "      <td>outofstock</td>\n",
       "      <td>19815</td>\n",
       "    </tr>\n",
       "  </tbody>\n",
       "</table>\n",
       "</div>"
      ],
      "text/plain": [
       "  product_id  onsale_web  price  stock_quantity stock_status    sku\n",
       "0       3847           1   24.2               0   outofstock  15298\n",
       "1       3849           1   34.3               0   outofstock  15296\n",
       "2       3850           1   20.8               0   outofstock  15300\n",
       "3       4032           1   14.1               0   outofstock  19814\n",
       "4       4039           1   46.0               0   outofstock  19815"
      ]
     },
     "execution_count": 29,
     "metadata": {},
     "output_type": "execute_result"
    }
   ],
   "source": [
    "erp_liaison = erp.merge(liaison, on='product_id',how='outer')         # jointure du fichier erp et du fichier liaison\n",
    "erp_liaison.head()"
   ]
  },
  {
   "cell_type": "code",
   "execution_count": 30,
   "id": "10b80a81",
   "metadata": {
    "id": "10b80a81"
   },
   "outputs": [
    {
     "name": "stdout",
     "output_type": "stream",
     "text": [
      "<class 'pandas.core.frame.DataFrame'>\n",
      "Int64Index: 825 entries, 0 to 824\n",
      "Data columns (total 6 columns):\n",
      " #   Column          Non-Null Count  Dtype  \n",
      "---  ------          --------------  -----  \n",
      " 0   product_id      825 non-null    object \n",
      " 1   onsale_web      825 non-null    int64  \n",
      " 2   price           825 non-null    float64\n",
      " 3   stock_quantity  825 non-null    int64  \n",
      " 4   stock_status    825 non-null    object \n",
      " 5   sku             734 non-null    object \n",
      "dtypes: float64(1), int64(2), object(3)\n",
      "memory usage: 45.1+ KB\n"
     ]
    }
   ],
   "source": [
    "erp_liaison.info()"
   ]
  },
  {
   "cell_type": "code",
   "execution_count": 31,
   "id": "e1d2b1d3",
   "metadata": {},
   "outputs": [
    {
     "data": {
      "text/plain": [
       "product_id        825\n",
       "onsale_web          2\n",
       "price             381\n",
       "stock_quantity    128\n",
       "stock_status        2\n",
       "sku               734\n",
       "dtype: int64"
      ]
     },
     "execution_count": 31,
     "metadata": {},
     "output_type": "execute_result"
    }
   ],
   "source": [
    "erp_liaison.nunique()   # afficher les valeurs uiques des différentes colonnes"
   ]
  },
  {
   "cell_type": "code",
   "execution_count": 32,
   "id": "ea4df88c",
   "metadata": {
    "id": "ea4df88c"
   },
   "outputs": [],
   "source": [
    "erp_liaison_web=erp_liaison.merge(web,on=\"sku\",how='outer') # jointure avec le fichier web"
   ]
  },
  {
   "cell_type": "code",
   "execution_count": 33,
   "id": "7c2ee40a",
   "metadata": {},
   "outputs": [
    {
     "name": "stdout",
     "output_type": "stream",
     "text": [
      "<class 'pandas.core.frame.DataFrame'>\n",
      "Int64Index: 916 entries, 0 to 915\n",
      "Data columns (total 21 columns):\n",
      " #   Column             Non-Null Count  Dtype  \n",
      "---  ------             --------------  -----  \n",
      " 0   product_id         916 non-null    object \n",
      " 1   onsale_web         916 non-null    int64  \n",
      " 2   price              916 non-null    float64\n",
      " 3   stock_quantity     916 non-null    int64  \n",
      " 4   stock_status       916 non-null    object \n",
      " 5   sku                734 non-null    object \n",
      " 6   total_sales        896 non-null    float64\n",
      " 7   tax_status         896 non-null    object \n",
      " 8   post_author        896 non-null    float64\n",
      " 9   post_date          896 non-null    object \n",
      " 10  post_date_gmt      896 non-null    object \n",
      " 11  post_title         896 non-null    object \n",
      " 12  post_excerpt       896 non-null    object \n",
      " 13  post_status        896 non-null    object \n",
      " 14  comment_status     896 non-null    object \n",
      " 15  ping_status        896 non-null    object \n",
      " 16  post_name          896 non-null    object \n",
      " 17  post_modified      896 non-null    object \n",
      " 18  post_modified_gmt  896 non-null    object \n",
      " 19  guid               896 non-null    object \n",
      " 20  post_type          896 non-null    object \n",
      "dtypes: float64(3), int64(2), object(16)\n",
      "memory usage: 157.4+ KB\n"
     ]
    }
   ],
   "source": [
    "erp_liaison_web.info()"
   ]
  },
  {
   "cell_type": "code",
   "execution_count": 34,
   "id": "dede6e2b",
   "metadata": {},
   "outputs": [
    {
     "data": {
      "text/plain": [
       "product_id           825\n",
       "onsale_web             2\n",
       "price                381\n",
       "stock_quantity       128\n",
       "stock_status           2\n",
       "sku                  734\n",
       "total_sales           41\n",
       "tax_status             1\n",
       "post_author            2\n",
       "post_date            716\n",
       "post_date_gmt        716\n",
       "post_title           713\n",
       "post_excerpt         679\n",
       "post_status            1\n",
       "comment_status         1\n",
       "ping_status            1\n",
       "post_name            716\n",
       "post_modified        589\n",
       "post_modified_gmt    589\n",
       "guid                 716\n",
       "post_type              1\n",
       "dtype: int64"
      ]
     },
     "execution_count": 34,
     "metadata": {},
     "output_type": "execute_result"
    }
   ],
   "source": [
    "erp_liaison_web.nunique()"
   ]
  },
  {
   "cell_type": "code",
   "execution_count": 35,
   "id": "07aa7584",
   "metadata": {},
   "outputs": [
    {
     "data": {
      "text/plain": [
       "0"
      ]
     },
     "execution_count": 35,
     "metadata": {},
     "output_type": "execute_result"
    }
   ],
   "source": [
    "erp_liaison_web.duplicated().sum()  # compte le nombre de doublons"
   ]
  },
  {
   "cell_type": "code",
   "execution_count": 36,
   "id": "65abeca3",
   "metadata": {},
   "outputs": [],
   "source": [
    "# erp_liaison_web['price']=erp_liaison_web['price'].str.replace(',', \".\").astype(float)  # changer le type de price en float"
   ]
  },
  {
   "cell_type": "code",
   "execution_count": 37,
   "id": "2a6814ab",
   "metadata": {
    "id": "2a6814ab"
   },
   "outputs": [],
   "source": [
    "erp_liaison_web['vente_total']=erp_liaison_web['total_sales']*erp_liaison_web['price']   # calcul vente_total"
   ]
  },
  {
   "cell_type": "code",
   "execution_count": 38,
   "id": "5e1b1e8d",
   "metadata": {
    "id": "5e1b1e8d"
   },
   "outputs": [
    {
     "data": {
      "text/html": [
       "<div>\n",
       "<style scoped>\n",
       "    .dataframe tbody tr th:only-of-type {\n",
       "        vertical-align: middle;\n",
       "    }\n",
       "\n",
       "    .dataframe tbody tr th {\n",
       "        vertical-align: top;\n",
       "    }\n",
       "\n",
       "    .dataframe thead th {\n",
       "        text-align: right;\n",
       "    }\n",
       "</style>\n",
       "<table border=\"1\" class=\"dataframe\">\n",
       "  <thead>\n",
       "    <tr style=\"text-align: right;\">\n",
       "      <th></th>\n",
       "      <th>product_id</th>\n",
       "      <th>onsale_web</th>\n",
       "      <th>price</th>\n",
       "      <th>stock_quantity</th>\n",
       "      <th>stock_status</th>\n",
       "      <th>sku</th>\n",
       "      <th>total_sales</th>\n",
       "      <th>tax_status</th>\n",
       "      <th>post_author</th>\n",
       "      <th>post_date</th>\n",
       "      <th>...</th>\n",
       "      <th>post_excerpt</th>\n",
       "      <th>post_status</th>\n",
       "      <th>comment_status</th>\n",
       "      <th>ping_status</th>\n",
       "      <th>post_name</th>\n",
       "      <th>post_modified</th>\n",
       "      <th>post_modified_gmt</th>\n",
       "      <th>guid</th>\n",
       "      <th>post_type</th>\n",
       "      <th>vente_total</th>\n",
       "    </tr>\n",
       "  </thead>\n",
       "  <tbody>\n",
       "    <tr>\n",
       "      <th>0</th>\n",
       "      <td>3847</td>\n",
       "      <td>1</td>\n",
       "      <td>24.2</td>\n",
       "      <td>0</td>\n",
       "      <td>outofstock</td>\n",
       "      <td>15298</td>\n",
       "      <td>6.0</td>\n",
       "      <td>taxable</td>\n",
       "      <td>2.0</td>\n",
       "      <td>2018-02-08 12:58:52</td>\n",
       "      <td>...</td>\n",
       "      <td>Il exhale un nez subtil, rac� avec du poivre f...</td>\n",
       "      <td>publish</td>\n",
       "      <td>closed</td>\n",
       "      <td>closed</td>\n",
       "      <td>pierre-jean-villa-saint-joseph-preface-2018</td>\n",
       "      <td>2019-12-30 09:30:29</td>\n",
       "      <td>2019-12-30 08:30:29</td>\n",
       "      <td>https://www.bottle-neck.fr/?post_type=product&amp;...</td>\n",
       "      <td>product</td>\n",
       "      <td>145.2</td>\n",
       "    </tr>\n",
       "    <tr>\n",
       "      <th>1</th>\n",
       "      <td>3849</td>\n",
       "      <td>1</td>\n",
       "      <td>34.3</td>\n",
       "      <td>0</td>\n",
       "      <td>outofstock</td>\n",
       "      <td>15296</td>\n",
       "      <td>0.0</td>\n",
       "      <td>taxable</td>\n",
       "      <td>2.0</td>\n",
       "      <td>2018-02-08 13:49:41</td>\n",
       "      <td>...</td>\n",
       "      <td>Les vieilles vignes lui apportent une rare pro...</td>\n",
       "      <td>publish</td>\n",
       "      <td>closed</td>\n",
       "      <td>closed</td>\n",
       "      <td>pierre-jean-villa-saint-joseph-tilde-2017</td>\n",
       "      <td>2019-12-21 09:00:17</td>\n",
       "      <td>2019-12-21 08:00:17</td>\n",
       "      <td>https://www.bottle-neck.fr/?post_type=product&amp;...</td>\n",
       "      <td>product</td>\n",
       "      <td>0.0</td>\n",
       "    </tr>\n",
       "    <tr>\n",
       "      <th>2</th>\n",
       "      <td>3850</td>\n",
       "      <td>1</td>\n",
       "      <td>20.8</td>\n",
       "      <td>0</td>\n",
       "      <td>outofstock</td>\n",
       "      <td>15300</td>\n",
       "      <td>0.0</td>\n",
       "      <td>taxable</td>\n",
       "      <td>2.0</td>\n",
       "      <td>2018-02-08 14:08:36</td>\n",
       "      <td>...</td>\n",
       "      <td>Dentelle de fruit de jeunes syrah, aux tanins ...</td>\n",
       "      <td>publish</td>\n",
       "      <td>closed</td>\n",
       "      <td>closed</td>\n",
       "      <td>pierre-jean-villa-croze-hermitage-accroche-coe...</td>\n",
       "      <td>2020-06-26 18:15:03</td>\n",
       "      <td>2020-06-26 16:15:03</td>\n",
       "      <td>https://www.bottle-neck.fr/?post_type=product&amp;...</td>\n",
       "      <td>product</td>\n",
       "      <td>0.0</td>\n",
       "    </tr>\n",
       "    <tr>\n",
       "      <th>3</th>\n",
       "      <td>4032</td>\n",
       "      <td>1</td>\n",
       "      <td>14.1</td>\n",
       "      <td>0</td>\n",
       "      <td>outofstock</td>\n",
       "      <td>19814</td>\n",
       "      <td>3.0</td>\n",
       "      <td>taxable</td>\n",
       "      <td>2.0</td>\n",
       "      <td>2018-02-09 14:01:05</td>\n",
       "      <td>...</td>\n",
       "      <td>Gamine repr�sente tout le fruit� et la gourman...</td>\n",
       "      <td>publish</td>\n",
       "      <td>closed</td>\n",
       "      <td>closed</td>\n",
       "      <td>pierre-jean-villa-igp-gamine-2018</td>\n",
       "      <td>2020-01-04 16:36:01</td>\n",
       "      <td>2020-01-04 15:36:01</td>\n",
       "      <td>https://www.bottle-neck.fr/?post_type=product&amp;...</td>\n",
       "      <td>product</td>\n",
       "      <td>42.3</td>\n",
       "    </tr>\n",
       "    <tr>\n",
       "      <th>4</th>\n",
       "      <td>4039</td>\n",
       "      <td>1</td>\n",
       "      <td>46.0</td>\n",
       "      <td>0</td>\n",
       "      <td>outofstock</td>\n",
       "      <td>19815</td>\n",
       "      <td>0.0</td>\n",
       "      <td>taxable</td>\n",
       "      <td>2.0</td>\n",
       "      <td>2018-02-12 09:04:37</td>\n",
       "      <td>...</td>\n",
       "      <td>Le c�te r�tie Carmina monte en puissance mais ...</td>\n",
       "      <td>publish</td>\n",
       "      <td>closed</td>\n",
       "      <td>closed</td>\n",
       "      <td>pierre-jean-villa-cote-rotie-carmina-2017</td>\n",
       "      <td>2020-01-04 16:36:10</td>\n",
       "      <td>2020-01-04 15:36:10</td>\n",
       "      <td>https://www.bottle-neck.fr/?post_type=product&amp;...</td>\n",
       "      <td>product</td>\n",
       "      <td>0.0</td>\n",
       "    </tr>\n",
       "  </tbody>\n",
       "</table>\n",
       "<p>5 rows × 22 columns</p>\n",
       "</div>"
      ],
      "text/plain": [
       "  product_id  onsale_web  price  stock_quantity stock_status    sku  \\\n",
       "0       3847           1   24.2               0   outofstock  15298   \n",
       "1       3849           1   34.3               0   outofstock  15296   \n",
       "2       3850           1   20.8               0   outofstock  15300   \n",
       "3       4032           1   14.1               0   outofstock  19814   \n",
       "4       4039           1   46.0               0   outofstock  19815   \n",
       "\n",
       "   total_sales tax_status  post_author            post_date  ...  \\\n",
       "0          6.0    taxable          2.0  2018-02-08 12:58:52  ...   \n",
       "1          0.0    taxable          2.0  2018-02-08 13:49:41  ...   \n",
       "2          0.0    taxable          2.0  2018-02-08 14:08:36  ...   \n",
       "3          3.0    taxable          2.0  2018-02-09 14:01:05  ...   \n",
       "4          0.0    taxable          2.0  2018-02-12 09:04:37  ...   \n",
       "\n",
       "                                        post_excerpt post_status  \\\n",
       "0  Il exhale un nez subtil, rac� avec du poivre f...     publish   \n",
       "1  Les vieilles vignes lui apportent une rare pro...     publish   \n",
       "2  Dentelle de fruit de jeunes syrah, aux tanins ...     publish   \n",
       "3  Gamine repr�sente tout le fruit� et la gourman...     publish   \n",
       "4  Le c�te r�tie Carmina monte en puissance mais ...     publish   \n",
       "\n",
       "  comment_status ping_status  \\\n",
       "0         closed      closed   \n",
       "1         closed      closed   \n",
       "2         closed      closed   \n",
       "3         closed      closed   \n",
       "4         closed      closed   \n",
       "\n",
       "                                           post_name        post_modified  \\\n",
       "0        pierre-jean-villa-saint-joseph-preface-2018  2019-12-30 09:30:29   \n",
       "1          pierre-jean-villa-saint-joseph-tilde-2017  2019-12-21 09:00:17   \n",
       "2  pierre-jean-villa-croze-hermitage-accroche-coe...  2020-06-26 18:15:03   \n",
       "3                  pierre-jean-villa-igp-gamine-2018  2020-01-04 16:36:01   \n",
       "4          pierre-jean-villa-cote-rotie-carmina-2017  2020-01-04 16:36:10   \n",
       "\n",
       "     post_modified_gmt                                               guid  \\\n",
       "0  2019-12-30 08:30:29  https://www.bottle-neck.fr/?post_type=product&...   \n",
       "1  2019-12-21 08:00:17  https://www.bottle-neck.fr/?post_type=product&...   \n",
       "2  2020-06-26 16:15:03  https://www.bottle-neck.fr/?post_type=product&...   \n",
       "3  2020-01-04 15:36:01  https://www.bottle-neck.fr/?post_type=product&...   \n",
       "4  2020-01-04 15:36:10  https://www.bottle-neck.fr/?post_type=product&...   \n",
       "\n",
       "  post_type vente_total  \n",
       "0   product       145.2  \n",
       "1   product         0.0  \n",
       "2   product         0.0  \n",
       "3   product        42.3  \n",
       "4   product         0.0  \n",
       "\n",
       "[5 rows x 22 columns]"
      ]
     },
     "execution_count": 38,
     "metadata": {},
     "output_type": "execute_result"
    }
   ],
   "source": [
    "erp_liaison_web.head()"
   ]
  },
  {
   "cell_type": "markdown",
   "id": "99b1858e",
   "metadata": {
    "id": "99b1858e"
   },
   "source": [
    "## 6. Répartition des ventes par produit et calcul du chiffre d'affaire total ."
   ]
  },
  {
   "cell_type": "code",
   "execution_count": 39,
   "id": "a1c6131e",
   "metadata": {
    "id": "a1c6131e",
    "outputId": "b8c4fd09-1a6e-41d6-efc7-456f14217d42"
   },
   "outputs": [
    {
     "name": "stdout",
     "output_type": "stream",
     "text": [
      "le chiffre d'affaire est de:  70568.6  euros\n"
     ]
    }
   ],
   "source": [
    "CAN=erp_liaison_web['vente_total'].sum()  \n",
    "print('le chiffre d\\'affaire est de: ',CAN , ' euros')"
   ]
  },
  {
   "cell_type": "code",
   "execution_count": 40,
   "id": "562dc90d",
   "metadata": {
    "id": "562dc90d",
    "outputId": "7a123746-80ca-493e-e7ec-a8f8807efb08"
   },
   "outputs": [
    {
     "name": "stdout",
     "output_type": "stream",
     "text": [
      "10 bons d'achat ont été distribués pour un montant total de 250.0  euros\n"
     ]
    }
   ],
   "source": [
    "#  remarques les bons d'achat ont le post_author == 1.0\n",
    "nb_bon,bon_achat=erp_liaison_web.loc[erp_liaison_web['post_author'] == 1.0,('total_sales','vente_total')].sum()\n",
    "print(f\"{nb_bon:.0f} bons d\\'achat ont été distribués pour un montant total de\",bon_achat, ' euros')"
   ]
  },
  {
   "cell_type": "code",
   "execution_count": 41,
   "id": "256ea634",
   "metadata": {
    "id": "256ea634"
   },
   "outputs": [],
   "source": [
    "\n",
    "total_vente_produit=erp_liaison_web.loc[erp_liaison_web['post_author'] == 2.0,['product_id','post_name','vente_total']].groupby(['product_id','post_name']).sum()[['vente_total']].sort_values(['vente_total'], ascending=False)\n"
   ]
  },
  {
   "cell_type": "code",
   "execution_count": 42,
   "id": "8dc128bd",
   "metadata": {
    "id": "8dc128bd",
    "outputId": "104746ce-f51a-4c50-f3ec-b894858f8a09"
   },
   "outputs": [
    {
     "data": {
      "text/html": [
       "<div>\n",
       "<style scoped>\n",
       "    .dataframe tbody tr th:only-of-type {\n",
       "        vertical-align: middle;\n",
       "    }\n",
       "\n",
       "    .dataframe tbody tr th {\n",
       "        vertical-align: top;\n",
       "    }\n",
       "\n",
       "    .dataframe thead th {\n",
       "        text-align: right;\n",
       "    }\n",
       "</style>\n",
       "<table border=\"1\" class=\"dataframe\">\n",
       "  <thead>\n",
       "    <tr style=\"text-align: right;\">\n",
       "      <th></th>\n",
       "      <th></th>\n",
       "      <th>vente_total</th>\n",
       "    </tr>\n",
       "    <tr>\n",
       "      <th>product_id</th>\n",
       "      <th>post_name</th>\n",
       "      <th></th>\n",
       "    </tr>\n",
       "  </thead>\n",
       "  <tbody>\n",
       "    <tr>\n",
       "      <th>4334</th>\n",
       "      <th>champagne-gosset-grand-blanc-de-blanc</th>\n",
       "      <td>4704.0</td>\n",
       "    </tr>\n",
       "    <tr>\n",
       "      <th>4144</th>\n",
       "      <th>champagne-gosset-grand-rose</th>\n",
       "      <td>4263.0</td>\n",
       "    </tr>\n",
       "    <tr>\n",
       "      <th>4402</th>\n",
       "      <th>cognac-frapin-vip-xo</th>\n",
       "      <td>2288.0</td>\n",
       "    </tr>\n",
       "    <tr>\n",
       "      <th>4142</th>\n",
       "      <th>champagne-gosset-grand-millesime-2006</th>\n",
       "      <td>1590.0</td>\n",
       "    </tr>\n",
       "    <tr>\n",
       "      <th>4141</th>\n",
       "      <th>gosset-champagne-grande-reserve</th>\n",
       "      <td>1560.0</td>\n",
       "    </tr>\n",
       "  </tbody>\n",
       "</table>\n",
       "</div>"
      ],
      "text/plain": [
       "                                                  vente_total\n",
       "product_id post_name                                         \n",
       "4334       champagne-gosset-grand-blanc-de-blanc       4704.0\n",
       "4144       champagne-gosset-grand-rose                 4263.0\n",
       "4402       cognac-frapin-vip-xo                        2288.0\n",
       "4142       champagne-gosset-grand-millesime-2006       1590.0\n",
       "4141       gosset-champagne-grande-reserve             1560.0"
      ]
     },
     "execution_count": 42,
     "metadata": {},
     "output_type": "execute_result"
    }
   ],
   "source": [
    "total_vente_produit.head()  # affichage des produits par montant des ventes par ordre décroissant"
   ]
  },
  {
   "cell_type": "markdown",
   "id": "fd6ad899",
   "metadata": {
    "id": "fd6ad899"
   },
   "source": [
    "## 7. Analyse des prix de vente."
   ]
  },
  {
   "cell_type": "code",
   "execution_count": 43,
   "id": "e2cfa1a4",
   "metadata": {},
   "outputs": [
    {
     "data": {
      "text/plain": [
       "count    825.000000\n",
       "mean      32.415636\n",
       "std       26.795849\n",
       "min        5.200000\n",
       "25%       14.600000\n",
       "50%       24.400000\n",
       "75%       42.000000\n",
       "max      225.000000\n",
       "Name: price, dtype: float64"
      ]
     },
     "execution_count": 43,
     "metadata": {},
     "output_type": "execute_result"
    }
   ],
   "source": [
    "erp['price'].describe()\n"
   ]
  },
  {
   "cell_type": "code",
   "execution_count": 44,
   "id": "24dea233",
   "metadata": {},
   "outputs": [
    {
     "name": "stdout",
     "output_type": "stream",
     "text": [
      "<class 'pandas.core.frame.DataFrame'>\n",
      "RangeIndex: 825 entries, 0 to 824\n",
      "Data columns (total 5 columns):\n",
      " #   Column          Non-Null Count  Dtype  \n",
      "---  ------          --------------  -----  \n",
      " 0   product_id      825 non-null    object \n",
      " 1   onsale_web      825 non-null    int64  \n",
      " 2   price           825 non-null    float64\n",
      " 3   stock_quantity  825 non-null    int64  \n",
      " 4   stock_status    825 non-null    object \n",
      "dtypes: float64(1), int64(2), object(2)\n",
      "memory usage: 32.4+ KB\n"
     ]
    }
   ],
   "source": [
    "erp.info()"
   ]
  },
  {
   "cell_type": "code",
   "execution_count": 45,
   "id": "8be13f20",
   "metadata": {},
   "outputs": [
    {
     "data": {
      "image/png": "[encoded data removed]",
      "text/plain": [
       "<Figure size 432x288 with 1 Axes>"
      ]
     },
     "metadata": {
      "needs_background": "light"
     },
     "output_type": "display_data"
    },
    {
     "data": {
      "image/png": "[encoded data removed]",
      "text/plain": [
       "<Figure size 432x288 with 1 Axes>"
      ]
     },
     "metadata": {
      "needs_background": "light"
     },
     "output_type": "display_data"
    }
   ],
   "source": [
    "erp['price'].hist() # Crée l'histogramme\n",
    "plt.show()\n",
    "erp.boxplot(column=\"price\", vert=False)  # crée la boîte à moustaches\n",
    "plt.show()"
   ]
  },
  {
   "cell_type": "code",
   "execution_count": 46,
   "id": "fddb3e2c",
   "metadata": {},
   "outputs": [],
   "source": [
    "##### déterminer les valeurs aberrantes\n",
    "\n",
    "\n",
    "\n",
    "q1=erp[\"price\"].quantile(q=0.25)          #On calcule Q1\n",
    "\n",
    "q3=erp[\"price\"].quantile(q=0.75)          #On calcule Q3     \n",
    "\n",
    "IQR=q3-q1                                            #On calcule l'écart interquartile (IQR) \n",
    "\n",
    "borne_inf = q1-1.5*IQR                               #On calcule la borne inférieure à l'aide du Q1 et de l'écart interquartile\n",
    "\n",
    "borne_sup = q3 +1.5*IQR                             #On calcule la borne supérieure à l'aide du Q3 et de l'écart interquartile \n",
    "\n",
    "# Les outliers sont les valeurs < à la borne inférieure ou > à la borne supérieure\n",
    "\n",
    "outliers = erp.loc[(erp['price'] < borne_inf)|(erp['price'] > borne_sup)]\n"
   ]
  },
  {
   "cell_type": "code",
   "execution_count": 47,
   "id": "a3e847bc",
   "metadata": {},
   "outputs": [
    {
     "name": "stdout",
     "output_type": "stream",
     "text": [
      "les produits dont le prix est > à 83.1 sont considérés d'un point de vue mathématique comme des outliers.Cependant, il existe des différences importantes au niveau des prix qui sont justifiées par la qualité de certains produits.tels que des grands crûs et autres produits haut de gamme .\n"
     ]
    }
   ],
   "source": [
    "print('les produits dont le prix est > à',borne_sup ,'sont considérés d\\'un point de vue mathématique comme des outliers.\\\n",
    "Cependant, il existe des différences importantes au niveau des prix qui sont justifiées par la qualité de certains produits.\\\n",
    "tels que des grands crûs et autres produits haut de gamme .') \n"
   ]
  },
  {
   "cell_type": "code",
   "execution_count": 48,
   "id": "f20387ff",
   "metadata": {},
   "outputs": [],
   "source": [
    "prix_haut=outliers.sort_values(by=\"price\", ascending=False)"
   ]
  },
  {
   "cell_type": "code",
   "execution_count": 49,
   "id": "fc78fa7f",
   "metadata": {},
   "outputs": [],
   "source": [
    "id_prix_haut = prix_haut.merge(erp_liaison_web[['product_id','total_sales','vente_total','post_name']],on='product_id', how='inner')"
   ]
  },
  {
   "cell_type": "code",
   "execution_count": 50,
   "id": "a2cc88f0",
   "metadata": {},
   "outputs": [],
   "source": [
    "id_prix_haut=id_prix_haut.dropna()"
   ]
  },
  {
   "cell_type": "code",
   "execution_count": 51,
   "id": "b5d9d765",
   "metadata": {
    "id": "b5d9d765"
   },
   "outputs": [
    {
     "data": {
      "text/plain": [
       "product_id        41\n",
       "onsale_web        41\n",
       "price             41\n",
       "stock_quantity    41\n",
       "stock_status      41\n",
       "total_sales       41\n",
       "vente_total       41\n",
       "post_name         41\n",
       "dtype: int64"
      ]
     },
     "execution_count": 51,
     "metadata": {},
     "output_type": "execute_result"
    }
   ],
   "source": [
    "id_prix_haut.count()\n"
   ]
  },
  {
   "cell_type": "code",
   "execution_count": 52,
   "id": "d8be687a",
   "metadata": {},
   "outputs": [
    {
     "data": {
      "text/html": [
       "<div>\n",
       "<style scoped>\n",
       "    .dataframe tbody tr th:only-of-type {\n",
       "        vertical-align: middle;\n",
       "    }\n",
       "\n",
       "    .dataframe tbody tr th {\n",
       "        vertical-align: top;\n",
       "    }\n",
       "\n",
       "    .dataframe thead th {\n",
       "        text-align: right;\n",
       "    }\n",
       "</style>\n",
       "<table border=\"1\" class=\"dataframe\">\n",
       "  <thead>\n",
       "    <tr style=\"text-align: right;\">\n",
       "      <th></th>\n",
       "      <th>product_id</th>\n",
       "      <th>onsale_web</th>\n",
       "      <th>price</th>\n",
       "      <th>stock_quantity</th>\n",
       "      <th>stock_status</th>\n",
       "      <th>total_sales</th>\n",
       "      <th>vente_total</th>\n",
       "      <th>post_name</th>\n",
       "    </tr>\n",
       "  </thead>\n",
       "  <tbody>\n",
       "    <tr>\n",
       "      <th>0</th>\n",
       "      <td>4352</td>\n",
       "      <td>1</td>\n",
       "      <td>225.0</td>\n",
       "      <td>0</td>\n",
       "      <td>outofstock</td>\n",
       "      <td>5.0</td>\n",
       "      <td>1125.0</td>\n",
       "      <td>champagne-egly-ouriet-grand-cru-millesime-2008</td>\n",
       "    </tr>\n",
       "    <tr>\n",
       "      <th>1</th>\n",
       "      <td>5001</td>\n",
       "      <td>1</td>\n",
       "      <td>217.5</td>\n",
       "      <td>20</td>\n",
       "      <td>instock</td>\n",
       "      <td>0.0</td>\n",
       "      <td>0.0</td>\n",
       "      <td>david-duband-charmes-chambertin-grand-cru-2014</td>\n",
       "    </tr>\n",
       "    <tr>\n",
       "      <th>2</th>\n",
       "      <td>5892</td>\n",
       "      <td>1</td>\n",
       "      <td>191.3</td>\n",
       "      <td>10</td>\n",
       "      <td>instock</td>\n",
       "      <td>3.0</td>\n",
       "      <td>573.9</td>\n",
       "      <td>coteaux-champenois-egly-ouriet-ambonnay-rouge-...</td>\n",
       "    </tr>\n",
       "    <tr>\n",
       "      <th>3</th>\n",
       "      <td>4402</td>\n",
       "      <td>1</td>\n",
       "      <td>176.0</td>\n",
       "      <td>8</td>\n",
       "      <td>instock</td>\n",
       "      <td>13.0</td>\n",
       "      <td>2288.0</td>\n",
       "      <td>cognac-frapin-vip-xo</td>\n",
       "    </tr>\n",
       "    <tr>\n",
       "      <th>4</th>\n",
       "      <td>5767</td>\n",
       "      <td>1</td>\n",
       "      <td>175.0</td>\n",
       "      <td>12</td>\n",
       "      <td>instock</td>\n",
       "      <td>0.0</td>\n",
       "      <td>0.0</td>\n",
       "      <td>camille-giroud-clos-de-vougeot-2016</td>\n",
       "    </tr>\n",
       "  </tbody>\n",
       "</table>\n",
       "</div>"
      ],
      "text/plain": [
       "  product_id  onsale_web  price  stock_quantity stock_status  total_sales  \\\n",
       "0       4352           1  225.0               0   outofstock          5.0   \n",
       "1       5001           1  217.5              20      instock          0.0   \n",
       "2       5892           1  191.3              10      instock          3.0   \n",
       "3       4402           1  176.0               8      instock         13.0   \n",
       "4       5767           1  175.0              12      instock          0.0   \n",
       "\n",
       "   vente_total                                          post_name  \n",
       "0       1125.0     champagne-egly-ouriet-grand-cru-millesime-2008  \n",
       "1          0.0     david-duband-charmes-chambertin-grand-cru-2014  \n",
       "2        573.9  coteaux-champenois-egly-ouriet-ambonnay-rouge-...  \n",
       "3       2288.0                               cognac-frapin-vip-xo  \n",
       "4          0.0                camille-giroud-clos-de-vougeot-2016  "
      ]
     },
     "execution_count": 52,
     "metadata": {},
     "output_type": "execute_result"
    }
   ],
   "source": [
    "id_prix_haut.sort_values(by=\"price\", ascending=False).head()"
   ]
  },
  {
   "cell_type": "code",
   "execution_count": null,
   "id": "4372199c",
   "metadata": {},
   "outputs": [],
   "source": []
  },
  {
   "cell_type": "code",
   "execution_count": null,
   "id": "786e0843",
   "metadata": {},
   "outputs": [],
   "source": []
  }
 ],
 "metadata": {
  "colab": {
   "name": "P5.ipynb",
   "provenance": []
  },
  "kernelspec": {
   "display_name": "Python 3 (ipykernel)",
   "language": "python",
   "name": "python3"
  },
  "language_info": {
   "codemirror_mode": {
    "name": "ipython",
    "version": 3
   },
   "file_extension": ".py",
   "mimetype": "text/x-python",
   "name": "python",
   "nbconvert_exporter": "python",
   "pygments_lexer": "ipython3",
   "version": "3.10.9"
  },
  "toc": {
   "base_numbering": 1,
   "nav_menu": {},
   "number_sections": true,
   "sideBar": true,
   "skip_h1_title": false,
   "title_cell": "Table of Contents",
   "title_sidebar": "Contents",
   "toc_cell": false,
   "toc_position": {},
   "toc_section_display": true,
   "toc_window_display": true
  }
 },
 "nbformat": 4,
 "nbformat_minor": 5
}
